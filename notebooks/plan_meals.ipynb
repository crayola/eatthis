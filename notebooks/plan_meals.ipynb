{
 "metadata": {
  "language_info": {
   "codemirror_mode": {
    "name": "ipython",
    "version": 3
   },
   "file_extension": ".py",
   "mimetype": "text/x-python",
   "name": "python",
   "nbconvert_exporter": "python",
   "pygments_lexer": "ipython3",
   "version": "3.9.1-final"
  },
  "orig_nbformat": 2,
  "kernelspec": {
   "name": "python3",
   "display_name": "Python 3",
   "language": "python"
  }
 },
 "nbformat": 4,
 "nbformat_minor": 2,
 "cells": [
  {
   "cell_type": "code",
   "execution_count": 26,
   "metadata": {},
   "outputs": [],
   "source": [
    "from dataclasses import dataclass\n",
    "import pandas as pd"
   ]
  },
  {
   "cell_type": "code",
   "execution_count": 27,
   "metadata": {},
   "outputs": [],
   "source": [
    "@dataclass\n",
    "class Meal:\n",
    "    name: str\n",
    "    like: int\n",
    "    min_delay: int\n",
    "    health: int\n",
    "    effort: int\n",
    "    seasons: int\n",
    "    gcp_type: int"
   ]
  },
  {
   "cell_type": "code",
   "execution_count": 14,
   "metadata": {},
   "outputs": [
    {
     "output_type": "execute_result",
     "data": {
      "text/plain": [
       "2"
      ]
     },
     "metadata": {},
     "execution_count": 14
    }
   ],
   "source": [
    "int(\"10\",2)"
   ]
  },
  {
   "cell_type": "code",
   "execution_count": 25,
   "metadata": {},
   "outputs": [
    {
     "output_type": "error",
     "ename": "IndentationError",
     "evalue": "expected an indented block (<ipython-input-25-c3b830b1b7b4>, line 4)",
     "traceback": [
      "\u001b[0;36m  File \u001b[0;32m\"<ipython-input-25-c3b830b1b7b4>\"\u001b[0;36m, line \u001b[0;32m4\u001b[0m\n\u001b[0;31m    # select randomly among remaining\u001b[0m\n\u001b[0m                                     ^\u001b[0m\n\u001b[0;31mIndentationError\u001b[0m\u001b[0;31m:\u001b[0m expected an indented block\n"
     ]
    }
   ],
   "source": [
    "def choose_meal(meal_time, ):\n",
    "    # exclude blacklist(meal_time)\n",
    "    # exclude not_in_season(meal_time)\n",
    "    # select randomly among remaining"
   ]
  },
  {
   "cell_type": "code",
   "execution_count": 47,
   "metadata": {},
   "outputs": [
    {
     "output_type": "execute_result",
     "data": {
      "text/plain": [
       "                     name  like  min_delay  health  effort seasons gcp_types\n",
       "0        beef bourguignon     9         60       3       4    1111       111\n",
       "1                 hot dog    10          7       2       2    1111       011\n",
       "2                raclette    10         30       2       3    1000       011\n",
       "3             ratatouille     7         60       5       4    1111       101\n",
       "4         kartoffelpuffer     8         14       2       2    1111       010\n",
       "5          sweet potatoes     7          7       3       2    1111       110\n",
       "6               mamma mia     9          7       1       2    1111       011\n",
       "7                spaetzle     7          7       2       2    1111       010\n",
       "8                    peas     7          4       5       2    1111       100\n",
       "9             green beans     7          4       5       2    1111       100\n",
       "10        brussel sprouts     7          4       5       3    1000       100\n",
       "11               zucchini     7          3       4       2    1111       100\n",
       "12              aubergine     7          7       4       3    1111       100\n",
       "13               kohlrabi     7          7       5       2    1111       100\n",
       "14         homemade pizza     9         14       3       3    1111       011\n",
       "15       fondue savoyarde     0          0       0       0    1111       000\n",
       "16            tartiflette     0          0       0       0    1111       000\n",
       "17             tortellini     0          0       0       0    1111       000\n",
       "18                  pasta     0          0       0       0    1111       000\n",
       "19                   rice     0          0       0       0    1111       000\n",
       "20                 quiche     0          0       0       0    1111       000\n",
       "21   fondue bourguignonne     0          0       0       0    1111       000\n",
       "22  fishfingers + spinach     0          0       0       0    1111       000\n",
       "23                chicken     0          0       0       0    1111       001\n",
       "24            flammkuchen     0          0       0       0    1111       000\n",
       "25            bready meal     0          0       0       0    1111       000\n",
       "26                   soup     0          0       0       0    1111       000\n",
       "27               broccoli     0          0       0       0    1111       000\n",
       "28          something new     0          0       0       0    1111       000\n",
       "29            butcher jar     0          0       0       0    1111       000\n",
       "30              bratwurst     0          0       0       0    1111       000\n",
       "31           kinder dinos     0          0       0       0    1111       000\n",
       "32               omelette     0          0       0       0    1111       000\n",
       "33                 burger     0          0       0       0    1111       000\n",
       "34                risotto     0          0       0       0    1111       000"
      ],
      "text/html": "<div>\n<style scoped>\n    .dataframe tbody tr th:only-of-type {\n        vertical-align: middle;\n    }\n\n    .dataframe tbody tr th {\n        vertical-align: top;\n    }\n\n    .dataframe thead th {\n        text-align: right;\n    }\n</style>\n<table border=\"1\" class=\"dataframe\">\n  <thead>\n    <tr style=\"text-align: right;\">\n      <th></th>\n      <th>name</th>\n      <th>like</th>\n      <th>min_delay</th>\n      <th>health</th>\n      <th>effort</th>\n      <th>seasons</th>\n      <th>gcp_types</th>\n    </tr>\n  </thead>\n  <tbody>\n    <tr>\n      <th>0</th>\n      <td>beef bourguignon</td>\n      <td>9</td>\n      <td>60</td>\n      <td>3</td>\n      <td>4</td>\n      <td>1111</td>\n      <td>111</td>\n    </tr>\n    <tr>\n      <th>1</th>\n      <td>hot dog</td>\n      <td>10</td>\n      <td>7</td>\n      <td>2</td>\n      <td>2</td>\n      <td>1111</td>\n      <td>011</td>\n    </tr>\n    <tr>\n      <th>2</th>\n      <td>raclette</td>\n      <td>10</td>\n      <td>30</td>\n      <td>2</td>\n      <td>3</td>\n      <td>1000</td>\n      <td>011</td>\n    </tr>\n    <tr>\n      <th>3</th>\n      <td>ratatouille</td>\n      <td>7</td>\n      <td>60</td>\n      <td>5</td>\n      <td>4</td>\n      <td>1111</td>\n      <td>101</td>\n    </tr>\n    <tr>\n      <th>4</th>\n      <td>kartoffelpuffer</td>\n      <td>8</td>\n      <td>14</td>\n      <td>2</td>\n      <td>2</td>\n      <td>1111</td>\n      <td>010</td>\n    </tr>\n    <tr>\n      <th>5</th>\n      <td>sweet potatoes</td>\n      <td>7</td>\n      <td>7</td>\n      <td>3</td>\n      <td>2</td>\n      <td>1111</td>\n      <td>110</td>\n    </tr>\n    <tr>\n      <th>6</th>\n      <td>mamma mia</td>\n      <td>9</td>\n      <td>7</td>\n      <td>1</td>\n      <td>2</td>\n      <td>1111</td>\n      <td>011</td>\n    </tr>\n    <tr>\n      <th>7</th>\n      <td>spaetzle</td>\n      <td>7</td>\n      <td>7</td>\n      <td>2</td>\n      <td>2</td>\n      <td>1111</td>\n      <td>010</td>\n    </tr>\n    <tr>\n      <th>8</th>\n      <td>peas</td>\n      <td>7</td>\n      <td>4</td>\n      <td>5</td>\n      <td>2</td>\n      <td>1111</td>\n      <td>100</td>\n    </tr>\n    <tr>\n      <th>9</th>\n      <td>green beans</td>\n      <td>7</td>\n      <td>4</td>\n      <td>5</td>\n      <td>2</td>\n      <td>1111</td>\n      <td>100</td>\n    </tr>\n    <tr>\n      <th>10</th>\n      <td>brussel sprouts</td>\n      <td>7</td>\n      <td>4</td>\n      <td>5</td>\n      <td>3</td>\n      <td>1000</td>\n      <td>100</td>\n    </tr>\n    <tr>\n      <th>11</th>\n      <td>zucchini</td>\n      <td>7</td>\n      <td>3</td>\n      <td>4</td>\n      <td>2</td>\n      <td>1111</td>\n      <td>100</td>\n    </tr>\n    <tr>\n      <th>12</th>\n      <td>aubergine</td>\n      <td>7</td>\n      <td>7</td>\n      <td>4</td>\n      <td>3</td>\n      <td>1111</td>\n      <td>100</td>\n    </tr>\n    <tr>\n      <th>13</th>\n      <td>kohlrabi</td>\n      <td>7</td>\n      <td>7</td>\n      <td>5</td>\n      <td>2</td>\n      <td>1111</td>\n      <td>100</td>\n    </tr>\n    <tr>\n      <th>14</th>\n      <td>homemade pizza</td>\n      <td>9</td>\n      <td>14</td>\n      <td>3</td>\n      <td>3</td>\n      <td>1111</td>\n      <td>011</td>\n    </tr>\n    <tr>\n      <th>15</th>\n      <td>fondue savoyarde</td>\n      <td>0</td>\n      <td>0</td>\n      <td>0</td>\n      <td>0</td>\n      <td>1111</td>\n      <td>000</td>\n    </tr>\n    <tr>\n      <th>16</th>\n      <td>tartiflette</td>\n      <td>0</td>\n      <td>0</td>\n      <td>0</td>\n      <td>0</td>\n      <td>1111</td>\n      <td>000</td>\n    </tr>\n    <tr>\n      <th>17</th>\n      <td>tortellini</td>\n      <td>0</td>\n      <td>0</td>\n      <td>0</td>\n      <td>0</td>\n      <td>1111</td>\n      <td>000</td>\n    </tr>\n    <tr>\n      <th>18</th>\n      <td>pasta</td>\n      <td>0</td>\n      <td>0</td>\n      <td>0</td>\n      <td>0</td>\n      <td>1111</td>\n      <td>000</td>\n    </tr>\n    <tr>\n      <th>19</th>\n      <td>rice</td>\n      <td>0</td>\n      <td>0</td>\n      <td>0</td>\n      <td>0</td>\n      <td>1111</td>\n      <td>000</td>\n    </tr>\n    <tr>\n      <th>20</th>\n      <td>quiche</td>\n      <td>0</td>\n      <td>0</td>\n      <td>0</td>\n      <td>0</td>\n      <td>1111</td>\n      <td>000</td>\n    </tr>\n    <tr>\n      <th>21</th>\n      <td>fondue bourguignonne</td>\n      <td>0</td>\n      <td>0</td>\n      <td>0</td>\n      <td>0</td>\n      <td>1111</td>\n      <td>000</td>\n    </tr>\n    <tr>\n      <th>22</th>\n      <td>fishfingers + spinach</td>\n      <td>0</td>\n      <td>0</td>\n      <td>0</td>\n      <td>0</td>\n      <td>1111</td>\n      <td>000</td>\n    </tr>\n    <tr>\n      <th>23</th>\n      <td>chicken</td>\n      <td>0</td>\n      <td>0</td>\n      <td>0</td>\n      <td>0</td>\n      <td>1111</td>\n      <td>001</td>\n    </tr>\n    <tr>\n      <th>24</th>\n      <td>flammkuchen</td>\n      <td>0</td>\n      <td>0</td>\n      <td>0</td>\n      <td>0</td>\n      <td>1111</td>\n      <td>000</td>\n    </tr>\n    <tr>\n      <th>25</th>\n      <td>bready meal</td>\n      <td>0</td>\n      <td>0</td>\n      <td>0</td>\n      <td>0</td>\n      <td>1111</td>\n      <td>000</td>\n    </tr>\n    <tr>\n      <th>26</th>\n      <td>soup</td>\n      <td>0</td>\n      <td>0</td>\n      <td>0</td>\n      <td>0</td>\n      <td>1111</td>\n      <td>000</td>\n    </tr>\n    <tr>\n      <th>27</th>\n      <td>broccoli</td>\n      <td>0</td>\n      <td>0</td>\n      <td>0</td>\n      <td>0</td>\n      <td>1111</td>\n      <td>000</td>\n    </tr>\n    <tr>\n      <th>28</th>\n      <td>something new</td>\n      <td>0</td>\n      <td>0</td>\n      <td>0</td>\n      <td>0</td>\n      <td>1111</td>\n      <td>000</td>\n    </tr>\n    <tr>\n      <th>29</th>\n      <td>butcher jar</td>\n      <td>0</td>\n      <td>0</td>\n      <td>0</td>\n      <td>0</td>\n      <td>1111</td>\n      <td>000</td>\n    </tr>\n    <tr>\n      <th>30</th>\n      <td>bratwurst</td>\n      <td>0</td>\n      <td>0</td>\n      <td>0</td>\n      <td>0</td>\n      <td>1111</td>\n      <td>000</td>\n    </tr>\n    <tr>\n      <th>31</th>\n      <td>kinder dinos</td>\n      <td>0</td>\n      <td>0</td>\n      <td>0</td>\n      <td>0</td>\n      <td>1111</td>\n      <td>000</td>\n    </tr>\n    <tr>\n      <th>32</th>\n      <td>omelette</td>\n      <td>0</td>\n      <td>0</td>\n      <td>0</td>\n      <td>0</td>\n      <td>1111</td>\n      <td>000</td>\n    </tr>\n    <tr>\n      <th>33</th>\n      <td>burger</td>\n      <td>0</td>\n      <td>0</td>\n      <td>0</td>\n      <td>0</td>\n      <td>1111</td>\n      <td>000</td>\n    </tr>\n    <tr>\n      <th>34</th>\n      <td>risotto</td>\n      <td>0</td>\n      <td>0</td>\n      <td>0</td>\n      <td>0</td>\n      <td>1111</td>\n      <td>000</td>\n    </tr>\n  </tbody>\n</table>\n</div>"
     },
     "metadata": {},
     "execution_count": 47
    }
   ],
   "source": [
    "import numpy as np\n",
    "meals_df = pd.read_csv(\n",
    "    '../data/meals.csv', \n",
    "    dtype={\n",
    "        'name': 'str', \n",
    "        'min_delay': 'int',\n",
    "        'health': 'int',\n",
    "        'effort': 'int',\n",
    "        'seasons': 'str',\n",
    "        'gcp_types': 'str',\n",
    "        'like': 'int',\n",
    "        },\n",
    "    )\n",
    "meals_df"
   ]
  },
  {
   "cell_type": "code",
   "execution_count": 22,
   "metadata": {},
   "outputs": [
    {
     "output_type": "error",
     "ename": "SyntaxError",
     "evalue": "invalid syntax (<ipython-input-22-3ecf6ad7dd4c>, line 10)",
     "traceback": [
      "\u001b[0;36m  File \u001b[0;32m\"<ipython-input-22-3ecf6ad7dd4c>\"\u001b[0;36m, line \u001b[0;32m10\u001b[0m\n\u001b[0;31m    min_delay = int(m_min_delay) or 0,\u001b[0m\n\u001b[0m    ^\u001b[0m\n\u001b[0;31mSyntaxError\u001b[0m\u001b[0;31m:\u001b[0m invalid syntax\n"
     ]
    }
   ],
   "source": [
    "with open(\"../data/meals.csv\") as f:\n",
    "    meals = []\n",
    "    f.readline()\n",
    "    for m in f.readlines():\n",
    "        m_tuple = m.split(\",\")\n",
    "        m_name, m_like, m_min_delay, m_health, m_effort, m_seasons, m_gcp_type = m_tuple\n",
    "        new_meal = Meal(\n",
    "            name = m_name,\n",
    "            like = int(m_like) or 0\n",
    "            min_delay = int(m_min_delay) or 0,\n",
    "            health = int(m_health),\n",
    "            effort = int(m_effort),\n",
    "            seasons = int(m_seasons,2),\n",
    "            gcp_type = int(m_gcp_type,2)\n",
    "            )\n",
    "        meals += [new_meal]"
   ]
  },
  {
   "cell_type": "code",
   "execution_count": 23,
   "metadata": {},
   "outputs": [
    {
     "output_type": "execute_result",
     "data": {
      "text/plain": [
       "[Meal(name='beef bourguignon', like=9, min_delay=60, health=3, effort=4, seasons=15, gcp_type=7),\n",
       " Meal(name='hot dog', like=10, min_delay=7, health=2, effort=2, seasons=15, gcp_type=3),\n",
       " Meal(name='raclette', like=10, min_delay=30, health=2, effort=3, seasons=8, gcp_type=3),\n",
       " Meal(name='ratatouille', like=7, min_delay=60, health=5, effort=4, seasons=15, gcp_type=5),\n",
       " Meal(name='kartoffelpuffer', like=8, min_delay=14, health=2, effort=2, seasons=15, gcp_type=2),\n",
       " Meal(name='sweet potatoes', like=7, min_delay=7, health=3, effort=2, seasons=15, gcp_type=6),\n",
       " Meal(name='mamma mia', like=9, min_delay=7, health=1, effort=2, seasons=15, gcp_type=3),\n",
       " Meal(name='spaetzle', like=7, min_delay=7, health=2, effort=2, seasons=15, gcp_type=2),\n",
       " Meal(name='peas', like=7, min_delay=4, health=5, effort=2, seasons=15, gcp_type=4),\n",
       " Meal(name='green beans', like=7, min_delay=4, health=5, effort=2, seasons=15, gcp_type=4),\n",
       " Meal(name='brussel sprouts', like=7, min_delay=4, health=5, effort=3, seasons=8, gcp_type=4),\n",
       " Meal(name='zucchini', like=7, min_delay=3, health=4, effort=2, seasons=15, gcp_type=4),\n",
       " Meal(name='aubergine', like=7, min_delay=7, health=4, effort=3, seasons=15, gcp_type=4),\n",
       " Meal(name='kohlrabi', like=7, min_delay=7, health=5, effort=2, seasons=15, gcp_type=4),\n",
       " Meal(name='homemade pizza', like=9, min_delay=14, health=3, effort=3, seasons=15, gcp_type=3)]"
      ]
     },
     "metadata": {},
     "execution_count": 23
    }
   ],
   "source": [
    "meals"
   ]
  },
  {
   "cell_type": "code",
   "execution_count": 5,
   "metadata": {},
   "outputs": [
    {
     "output_type": "stream",
     "text": [
      "\u001b[0;31mSignature:\u001b[0m \u001b[0mstr\u001b[0m\u001b[0;34m.\u001b[0m\u001b[0msplit\u001b[0m\u001b[0;34m(\u001b[0m\u001b[0mself\u001b[0m\u001b[0;34m,\u001b[0m \u001b[0;34m/\u001b[0m\u001b[0;34m,\u001b[0m \u001b[0msep\u001b[0m\u001b[0;34m=\u001b[0m\u001b[0;32mNone\u001b[0m\u001b[0;34m,\u001b[0m \u001b[0mmaxsplit\u001b[0m\u001b[0;34m=\u001b[0m\u001b[0;34m-\u001b[0m\u001b[0;36m1\u001b[0m\u001b[0;34m)\u001b[0m\u001b[0;34m\u001b[0m\u001b[0;34m\u001b[0m\u001b[0m\n",
      "\u001b[0;31mDocstring:\u001b[0m\n",
      "Return a list of the words in the string, using sep as the delimiter string.\n",
      "\n",
      "sep\n",
      "  The delimiter according which to split the string.\n",
      "  None (the default value) means split according to any whitespace,\n",
      "  and discard empty strings from the result.\n",
      "maxsplit\n",
      "  Maximum number of splits to do.\n",
      "  -1 (the default value) means no limit.\n",
      "\u001b[0;31mType:\u001b[0m      method_descriptor\n"
     ],
     "name": "stdout"
    }
   ],
   "source": [
    "str.split?"
   ]
  },
  {
   "cell_type": "code",
   "execution_count": null,
   "metadata": {},
   "outputs": [],
   "source": []
  }
 ]
}