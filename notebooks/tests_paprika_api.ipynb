{
 "cells": [
  {
   "cell_type": "code",
   "execution_count": null,
   "id": "skilled-danger",
   "metadata": {},
   "outputs": [],
   "source": [
    "import requests\n",
    "import uuid"
   ]
  },
  {
   "cell_type": "code",
   "execution_count": null,
   "id": "induced-middle",
   "metadata": {},
   "outputs": [],
   "source": [
    "\n",
    "str(uuid.uuid4()).upper()"
   ]
  },
  {
   "cell_type": "code",
   "execution_count": null,
   "id": "moving-development",
   "metadata": {},
   "outputs": [],
   "source": [
    "r = requests.get('https://www.paprikaapp.com/api/v1/sync/groceries/', auth=('EMAIL', 'PASSWORD'))\n",
    "print(r.status_code)\n",
    "print(r.text)"
   ]
  },
  {
   "cell_type": "code",
   "execution_count": null,
   "id": "furnished-accident",
   "metadata": {},
   "outputs": [],
   "source": [
    "r = requests.post('https://www.paprikaapp.com/api/v2/account/login/', data={'email':'EMAIL', 'password':'PASSWORD'})\n",
    "print(r.status_code)\n",
    "print(r.text)\n",
    "#http -f post https://www.paprikaapp.com/api/v2/account/login/ 'email=<my email>' 'password=<my password>'\n"
   ]
  },
  {
   "cell_type": "code",
   "execution_count": null,
   "id": "greek-ticket",
   "metadata": {},
   "outputs": [],
   "source": [
    "tok = r.json()['result']['token']"
   ]
  },
  {
   "cell_type": "code",
   "execution_count": null,
   "id": "convenient-convention",
   "metadata": {},
   "outputs": [],
   "source": [
    "import json\n",
    "import gzip\n",
    "\n",
    "def _gzip(obj, *, wrap_list=False) -> bytes:\n",
    "    body = f'[{json.dumps(obj)}]' #if wrap_list else obj.to_json()\n",
    "    print(body)\n",
    "    return gzip.compress(body.encode())\n",
    "\n",
    "datatest={\"uid\": \"21CAC242-2F5F-438A-9D4E-0EDFDFC6204C\", \n",
    "          \"order_flag\": 1, \"type_uid\": \"216713D08860CFA0D9787EA5C6CEBC8A8F5B73777F91C904853AC234BB9DF642\", \"date\": \"2021-01-21 00:00:00\", \"recipe_uid\": \"null\", \"type\": 2, \"name\": \"test\"}\n",
    "\n",
    "meal_txt = \"\"\"[{\"uid\": \"21CAC242-2F5F-438A-9D4E-0EDFDFC6304C\", \\\n",
    "\"order_flag\": 2, \"type_uid\": \"216713D08860CFA0D9787EA5C6CEBC8A8F5B73777F91C904853AC234BB9DF645\", \"date\": \"2021-01-21 00:00:00\", \"recipe_uid\": null, \"type\": 2, \"name\": \"test\"}]\"\"\"\n",
    "\n",
    "#meal_txt2 = \"\"\"[{\"name\":\"Hot dogs2\", \"uid\":\"21CAC242-2F5F-438A-9D4E-0ECFDFC6434C\",\"deleted\":true,\"order_flag\":0,\"date\":\"2021-01-27 00:00:00\",\"type\":2,\"recipe_uid\":null,\"type_uid\":\"216713D08860CFA0D9787EA5C6CEBC8A8F5B73777F91C904853AC234BB9DF642\"}]\"\"\"\n",
    "\n",
    "meal_txt2 = \"\"\"[{\"name\": \"esprit\", \"uid\":\"B67638C5-ECDA-4626-A012-078F4D1CB8EF\",\"deleted\":false,\"order_flag\":0,\"date\":\"2021-01-27 00:00:00\",\"type\":2,\"recipe_uid\":null,\"type_uid\":\"216713D08860CFA0D9787EA5C6CEBC8A8F5B73777F91C904853AC234BB9DF642\"}]\"\"\"\n",
    "\n",
    "print(meal_txt2.encode())"
   ]
  },
  {
   "cell_type": "code",
   "execution_count": null,
   "id": "fleet-transcription",
   "metadata": {},
   "outputs": [],
   "source": [
    "\n",
    "datatest = gzip.compress(meal_txt2.encode())\n",
    "\n",
    "r = requests.post('https://www.paprikaapp.com/api/v2/sync/meals/', files={\"data\": datatest}, headers={'Authorization': f'Bearer {tok}'})\n",
    "\n",
    "print(r)\n",
    "r.text"
   ]
  },
  {
   "cell_type": "code",
   "execution_count": null,
   "id": "oriented-programming",
   "metadata": {},
   "outputs": [],
   "source": [
    "r = requests.get('https://www.paprikaapp.com/api/v2/sync/meals/', headers={'Authorization': f'Bearer {tok}'})\n",
    "r.text"
   ]
  },
  {
   "cell_type": "code",
   "execution_count": null,
   "id": "lucky-latino",
   "metadata": {},
   "outputs": [],
   "source": [
    "@dataclass\n",
    "class Meal:\n",
    "    name: str\n",
    "    uid: str = uuid.uuid4()\n",
    "    order_flag: int = 0\n",
    "    type_uid: str = uid\n",
    "    date: str = \"test\"\n",
    "    recipe_uid: str = \"null\"\n",
    "    type: int = 0\n",
    "\n",
    "\n",
    "\n",
    "    #{\"uid\": \"21CAC242-2F5F-438A-9D4E-0EDFDFC6304C\", \\\n",
    "#\"order_flag\": 2, \"type_uid\": \"216713D08860CFA0D9787EA5C6CEBC8A8F5B73777F91C904853AC234BB9DF645\", \"date\": \"2021-01-21 00:00:00\", \"recipe_uid\": null, \"type\": 2, \"name\": \"test\"}"
   ]
  },
  {
   "cell_type": "code",
   "execution_count": null,
   "id": "broadband-privacy",
   "metadata": {},
   "outputs": [],
   "source": [
    "from dataclasses import dataclass"
   ]
  },
  {
   "cell_type": "code",
   "execution_count": null,
   "id": "herbal-mercy",
   "metadata": {},
   "outputs": [],
   "source": [
    "meal_test = Meal(\"hot dog\")"
   ]
  },
  {
   "cell_type": "code",
   "execution_count": null,
   "id": "monetary-halloween",
   "metadata": {},
   "outputs": [],
   "source": [
    "meal_test"
   ]
  },
  {
   "cell_type": "code",
   "execution_count": null,
   "id": "widespread-crowd",
   "metadata": {},
   "outputs": [],
   "source": []
  }
 ],
 "metadata": {
  "kernelspec": {
   "display_name": "Python 3",
   "language": "python",
   "name": "python3"
  },
  "language_info": {
   "codemirror_mode": {
    "name": "ipython",
    "version": 3
   },
   "file_extension": ".py",
   "mimetype": "text/x-python",
   "name": "python",
   "nbconvert_exporter": "python",
   "pygments_lexer": "ipython3",
   "version": "3.9.1"
  }
 },
 "nbformat": 4,
 "nbformat_minor": 5
}
